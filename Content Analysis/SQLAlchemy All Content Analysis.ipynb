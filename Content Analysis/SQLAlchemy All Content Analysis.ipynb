{
 "cells": [
  {
   "cell_type": "code",
   "execution_count": null,
   "metadata": {
    "collapsed": false
   },
   "outputs": [],
   "source": [
    "import sqlalchemy as sq\n",
    "import pymysql\n",
    "\n",
    "import pandas as pd\n",
    "import numpy as np\n",
    "\n",
    "import os\n",
    "import csv\n",
    "\n",
    "import datetime as dt\n",
    "\n",
    "sq.__version__"
   ]
  },
  {
   "cell_type": "code",
   "execution_count": null,
   "metadata": {
    "collapsed": true
   },
   "outputs": [],
   "source": [
    "\n",
    "def convert_unixtime(stamp):\n",
    "    return dt.datetime.fromtimestamp(\n",
    "        int(stamp)\n",
    "    ).strftime('%Y-%m-%d')"
   ]
  },
  {
   "cell_type": "code",
   "execution_count": null,
   "metadata": {
    "collapsed": true
   },
   "outputs": [],
   "source": [
    "# Set hash function to anonymize data\n",
    "import hashlib\n",
    "\n",
    "SALT = os.urandom(16)\n",
    "\n",
    "def anonymize(value):\n",
    "    return hashlib.sha1(value+SALT).hexdigest()"
   ]
  },
  {
   "cell_type": "code",
   "execution_count": null,
   "metadata": {
    "collapsed": true
   },
   "outputs": [],
   "source": [
    "def find_dept(email):\n",
    "    ampersand = email.find('@')\n",
    "    tail = email[ampersand + 1:]\n",
    "    try:\n",
    "        return dept_dict[tail]\n",
    "    except KeyError:\n",
    "        return \"OTHER\""
   ]
  },
  {
   "cell_type": "markdown",
   "metadata": {},
   "source": [
    "## Set up Dept List/Dict"
   ]
  },
  {
   "cell_type": "code",
   "execution_count": null,
   "metadata": {
    "collapsed": true
   },
   "outputs": [],
   "source": [
    "dept_dict = {}\n",
    "\n",
    "data_path = r'/Users/toferc/Documents/Data/'\n",
    "output_path = r'/Users/toferc/Documents/Report Card/April/'"
   ]
  },
  {
   "cell_type": "code",
   "execution_count": null,
   "metadata": {
    "collapsed": false
   },
   "outputs": [],
   "source": [
    "with open(os.path.join(data_path, 'csv_keys.csv'), \"r\") as f:\n",
    "    reader = csv.reader(f, delimiter=',')\n",
    "    next(reader)\n",
    "    \n",
    "    for row in reader:\n",
    "        email, acronym = row\n",
    "        dept_dict[email] = acronym\n",
    "\n",
    "dept_dict['cadets.gc.ca'] = 'CADETS'\n",
    "dept_dict['canada.gc.ca'] = 'CANADA'\n",
    "dept_dict['canada.ca'] = 'CANADA'\n",
    "dept_dict['tribunal.gc.ca'] = 'TRIBUNAL'\n",
    "dept_dict['cannor.gc.ca'] = 'CED/DEC'\n",
    "dept_dict['ci-oic.gc.ca'] = 'CI/OIC'\n",
    "dept_dict['ccgs-ngcc.gc.ca'] = 'CCGS/NGCC'\n",
    "dept_dict['god.ccgs-ngcc.gc.ca'] = 'CCGS/NGCC'\n",
    "dept_dict['clo-ocol.gc.ca'] = 'OCOL/CLO'\n",
    "dept_dict['csps.gc.ca'] = 'CSPS/EFPC'\n",
    "dept_dict['interenational.gc.ca'] = 'DFAITD/MAECD'\n",
    "dept_dict['cnb-ncw.gc.ca'] = 'CNB/NCW'\n",
    "dept_dict['ncw-cnb.gc.ca'] = 'CNB/NCW'\n",
    "dept_dict['nfb.gc.ca'] = 'NFB/ONF'\n",
    "dept_dict['nrccan-rncan.gc.ca'] = 'NRCAN/RNCAN'\n",
    "dept_dict['nserc-crsng.gc.ca'] = 'NSERC/CRSNG'\n",
    "dept_dict['pbc-clcc.gc.ca'] = 'PBC/CLCC'\n",
    "dept_dict['pco.bcp.gc.ca'] = 'PCO/BCP'\n",
    "dept_dict['pipsc.ca'] = 'PIPSC/IPFPC'\n",
    "dept_dict['ps.sp.gc.ca'] = 'PS/SP'\n",
    "dept_dict['servicecanada.gc.ca.gc.ca'] = 'HRSDC/RHDSC'\n",
    "dept_dict['fintrac-canafe.gc.ca'] = 'FINTRAC'\n",
    "dept_dict['gmail.com'] = 'GMAIL'\n",
    "dept_dict['tribunbal.gc.ca'] = 'TRIBUNAL'"
   ]
  },
  {
   "cell_type": "code",
   "execution_count": null,
   "metadata": {
    "collapsed": true
   },
   "outputs": [],
   "source": []
  },
  {
   "cell_type": "code",
   "execution_count": null,
   "metadata": {
    "collapsed": false
   },
   "outputs": [],
   "source": [
    "dept_list = []\n",
    "\n",
    "for k, v in dept_dict.items():\n",
    "    dept_list.append(v)\n",
    "\n",
    "dept_list = set(dept_list)"
   ]
  },
  {
   "cell_type": "code",
   "execution_count": null,
   "metadata": {
    "collapsed": false
   },
   "outputs": [],
   "source": [
    "# Load CIOC members and FTE counts\n",
    "\n",
    "cioc_depts = pd.read_csv(os.path.join(data_path, 'CIOC_depts_jan_2016.csv'),\n",
    "                        thousands=',')"
   ]
  },
  {
   "cell_type": "code",
   "execution_count": null,
   "metadata": {
    "collapsed": false
   },
   "outputs": [],
   "source": [
    "cioc_depts.head()"
   ]
  },
  {
   "cell_type": "code",
   "execution_count": null,
   "metadata": {
    "collapsed": false
   },
   "outputs": [],
   "source": []
  },
  {
   "cell_type": "markdown",
   "metadata": {},
   "source": [
    "## Connect to DB"
   ]
  },
  {
   "cell_type": "code",
   "execution_count": null,
   "metadata": {
    "collapsed": false
   },
   "outputs": [],
   "source": [
    "import getpass\n",
    "\n",
    "password = getpass.getpass('Enter Password: ')"
   ]
  },
  {
   "cell_type": "code",
   "execution_count": null,
   "metadata": {
    "collapsed": true
   },
   "outputs": [],
   "source": [
    "# MariahDB = 165\n",
    "# MYSQL = 117\n",
    "\n",
    "db_connection = \"mysql+pymysql://elgg:{}@192.168.1.99:3306/elgg12\".format(\n",
    "    password)"
   ]
  },
  {
   "cell_type": "code",
   "execution_count": null,
   "metadata": {
    "collapsed": false
   },
   "outputs": [],
   "source": [
    "engine = sq.create_engine(db_connection,encoding='latin1', echo=True)"
   ]
  },
  {
   "cell_type": "code",
   "execution_count": null,
   "metadata": {
    "collapsed": false
   },
   "outputs": [],
   "source": [
    "conn = engine.connect()"
   ]
  },
  {
   "cell_type": "code",
   "execution_count": null,
   "metadata": {
    "collapsed": false
   },
   "outputs": [],
   "source": [
    "engine.connect()"
   ]
  },
  {
   "cell_type": "code",
   "execution_count": null,
   "metadata": {
    "collapsed": true
   },
   "outputs": [],
   "source": []
  },
  {
   "cell_type": "code",
   "execution_count": null,
   "metadata": {
    "collapsed": false
   },
   "outputs": [],
   "source": [
    "from sqlalchemy.orm import sessionmaker, relationship\n",
    "from sqlalchemy.ext.automap import automap_base\n",
    "from sqlalchemy import and_, or_\n",
    "Session = sessionmaker(bind=engine)"
   ]
  },
  {
   "cell_type": "code",
   "execution_count": null,
   "metadata": {
    "collapsed": true
   },
   "outputs": [],
   "source": [
    "Session.configure(bind=engine)\n",
    "session = Session()"
   ]
  },
  {
   "cell_type": "code",
   "execution_count": null,
   "metadata": {
    "collapsed": false,
    "scrolled": true
   },
   "outputs": [],
   "source": [
    "Base = automap_base()\n",
    "\n",
    "Base.prepare(engine, reflect=True)"
   ]
  },
  {
   "cell_type": "code",
   "execution_count": null,
   "metadata": {
    "collapsed": false
   },
   "outputs": [],
   "source": [
    "# Set up mappings\n",
    "\n",
    "Users = Base.classes.elggusers_entity\n",
    "Groups = Base.classes.elgggroups_entity\n",
    "Relationships = Base.classes.elggentity_relationships\n",
    "Entities = Base.classes.elggentities\n",
    "Objects = Base.classes.elggobjects_entity\n",
    "MetaData = Base.classes.elggmetadata\n",
    "MetaStrings = Base.classes.elggmetastrings\n",
    "Annotations = Base.classes.elggannotations\n"
   ]
  },
  {
   "cell_type": "markdown",
   "metadata": {},
   "source": [
    "### Guide to Elgg Entities\n",
    "\n",
    "Blogs = Entities(subtype=5)\n",
    "Group_Members = Users(relationship=member)\n",
    "Discussions = Entities(subtype=7)\n",
    "Pages = Entities(subtype=10)\n",
    "Wire = Entities(subtype=17)\n",
    "\n",
    "Content = Entities(subtype) -> entity_guid\n",
    "    Elggmetadata(entity_guid) -> name_id, value_id\n",
    "    Elggmetastrings(name_id OR value_id)\n",
    "    \n",
    "#Comments\n",
    "Blog is container entity - GUID = blog guid\n",
    "\n",
    "Blog guid = 10\n",
    "search container for blog guid, return container guid\n",
    "elggmetadata(container_guid)\n",
    "Elggmetastrings(name_id OR value_id)\n",
    "\n",
    "#Skills\n",
    "user_GUID -> elggmetadata(container_guid) - name_id = 60"
   ]
  },
  {
   "cell_type": "code",
   "execution_count": null,
   "metadata": {
    "collapsed": true
   },
   "outputs": [],
   "source": [
    "# Set up subtype objects of interest\n",
    "\n",
    "subtypes = {'blogs': 5,\n",
    "            'discussions': 7,\n",
    "            'pages': 10,\n",
    "            'wires': 17,\n",
    "            'files': 1,\n",
    "            'images': 19,\n",
    "            'bookmarks': 8,\n",
    "            'ideas': 42\n",
    "           }\n",
    "\n",
    "subtype_list = \"5 7 10 17 1 19 8 42\".split()"
   ]
  },
  {
   "cell_type": "code",
   "execution_count": null,
   "metadata": {
    "collapsed": true
   },
   "outputs": [],
   "source": []
  },
  {
   "cell_type": "code",
   "execution_count": null,
   "metadata": {
    "collapsed": false
   },
   "outputs": [],
   "source": [
    "# Print list of table names\n",
    "\n",
    "from sqlalchemy.engine import reflection\n",
    "\n",
    "insp = reflection.Inspector.from_engine(engine)\n",
    "print(insp.get_table_names())"
   ]
  },
  {
   "cell_type": "markdown",
   "metadata": {
    "collapsed": false
   },
   "source": [
    "## Test for Users"
   ]
  },
  {
   "cell_type": "markdown",
   "metadata": {
    "collapsed": false
   },
   "source": [
    "## Test for Blogs"
   ]
  },
  {
   "cell_type": "code",
   "execution_count": null,
   "metadata": {
    "collapsed": false
   },
   "outputs": [],
   "source": [
    "# Test for pulling out blog info\n",
    "blogs = []\n",
    "\n",
    "for entity, user, objects in session.query(\n",
    "    Entities, Users, Objects).filter(\n",
    "        Entities.subtype == 5,\n",
    "        Objects.guid == Entities.guid,\n",
    "        Entities.owner_guid == Users.guid,\n",
    "        Users.email.contains('christopher.allison')):\n",
    "    blogs.append((entity.guid, entity.subtype, user.name,\n",
    "                  objects.title, objects.description))"
   ]
  },
  {
   "cell_type": "code",
   "execution_count": null,
   "metadata": {
    "collapsed": false
   },
   "outputs": [],
   "source": [
    "blogs[1]"
   ]
  },
  {
   "cell_type": "markdown",
   "metadata": {},
   "source": [
    "## Test for running raw SQL"
   ]
  },
  {
   "cell_type": "code",
   "execution_count": null,
   "metadata": {
    "collapsed": false
   },
   "outputs": [],
   "source": [
    "from sqlalchemy.sql import select, text"
   ]
  },
  {
   "cell_type": "markdown",
   "metadata": {},
   "source": [
    "## Pull of dept content"
   ]
  },
  {
   "cell_type": "code",
   "execution_count": null,
   "metadata": {
    "collapsed": false
   },
   "outputs": [],
   "source": [
    "# Take 2 - single query of DB to pull core collaborative content\n",
    "# Works just fine\n",
    "\n",
    "results = []\n",
    "\n",
    "for e, u, o in session.query(\n",
    "    Entities, Users, Objects).filter(\n",
    "    Entities.owner_guid == Users.guid,\n",
    "    Entities.guid == Objects.guid,\n",
    "    Entities.subtype.in_(subtype_list)):\n",
    "    results.append((\n",
    "            e.guid, \n",
    "            e.subtype, \n",
    "            u.name,\n",
    "            find_dept(u.email.lower()),\n",
    "            convert_unixtime(e.time_created))\n",
    "                   )"
   ]
  },
  {
   "cell_type": "code",
   "execution_count": null,
   "metadata": {
    "collapsed": false
   },
   "outputs": [],
   "source": [
    "len(results)"
   ]
  },
  {
   "cell_type": "code",
   "execution_count": null,
   "metadata": {
    "collapsed": false
   },
   "outputs": [],
   "source": [
    "# Transform raw content into dict\n",
    "# Might be a better way to do this with Counter\n",
    "\n",
    "dept_stats = {}\n",
    "\n",
    "for d in dept_list:\n",
    "    dept_stats[d] = {}\n",
    "    for s in subtype_list:\n",
    "        dept_stats[d][s] = 0\n",
    "\n",
    "for r in results:\n",
    "    guid, subtype, name, dept, created_date = r\n",
    "    if dept in dept_list:\n",
    "        dept_stats[dept][str(subtype)] += 1\n",
    "\n"
   ]
  },
  {
   "cell_type": "code",
   "execution_count": null,
   "metadata": {
    "collapsed": false
   },
   "outputs": [],
   "source": [
    "dept_stats['RCMP/GRC']"
   ]
  },
  {
   "cell_type": "code",
   "execution_count": null,
   "metadata": {
    "collapsed": false
   },
   "outputs": [],
   "source": [
    "files = 0\n",
    "\n",
    "for d in dept_stats:\n",
    "    files += dept_stats[d]['1']\n",
    "\n",
    "print(files)\n",
    "        "
   ]
  },
  {
   "cell_type": "code",
   "execution_count": null,
   "metadata": {
    "collapsed": false
   },
   "outputs": [],
   "source": [
    "# Transform dict indo pd.DataFrame\n",
    "\n",
    "df = pd.DataFrame.from_dict(dept_stats, orient='index')"
   ]
  },
  {
   "cell_type": "code",
   "execution_count": null,
   "metadata": {
    "collapsed": false
   },
   "outputs": [],
   "source": [
    "# Add column headers\n",
    "\n",
    "df.rename(columns = {'5' : 'Blogs', '7' : 'Discussions', '10' : 'Pages', '17' : 'Wires',\n",
    "                     '8' : 'Bookmarks', '42' : 'Ideas', '19' : 'Images', '1' : 'Files'}, inplace=True)"
   ]
  },
  {
   "cell_type": "code",
   "execution_count": null,
   "metadata": {
    "collapsed": false
   },
   "outputs": [],
   "source": []
  },
  {
   "cell_type": "code",
   "execution_count": null,
   "metadata": {
    "collapsed": false
   },
   "outputs": [],
   "source": [
    "df.sort_values(by='Blogs', ascending=False ).head()"
   ]
  },
  {
   "cell_type": "code",
   "execution_count": null,
   "metadata": {
    "collapsed": true
   },
   "outputs": [],
   "source": []
  },
  {
   "cell_type": "code",
   "execution_count": null,
   "metadata": {
    "collapsed": false
   },
   "outputs": [],
   "source": [
    "df.reset_index(drop=False, inplace=True)"
   ]
  },
  {
   "cell_type": "code",
   "execution_count": null,
   "metadata": {
    "collapsed": false
   },
   "outputs": [],
   "source": [
    "df.rename(columns = {'index': 'Department'}, inplace=True)"
   ]
  },
  {
   "cell_type": "code",
   "execution_count": null,
   "metadata": {
    "collapsed": false
   },
   "outputs": [],
   "source": [
    "df = df[['Department', 'Blogs', 'Discussions', 'Pages', 'Wires',\n",
    "         'Bookmarks', 'Ideas', 'Images', 'Files']]"
   ]
  },
  {
   "cell_type": "code",
   "execution_count": null,
   "metadata": {
    "collapsed": false
   },
   "outputs": [],
   "source": [
    "cioc = pd.merge(df, cioc_depts, how='right')"
   ]
  },
  {
   "cell_type": "code",
   "execution_count": null,
   "metadata": {
    "collapsed": false
   },
   "outputs": [],
   "source": [
    "cioc"
   ]
  },
  {
   "cell_type": "code",
   "execution_count": null,
   "metadata": {
    "collapsed": false
   },
   "outputs": [],
   "source": [
    "content = cioc[['Department', 'Blogs', 'Discussions', 'Pages', 'Wires',\n",
    "         'Bookmarks', 'Ideas']]\n",
    "\n",
    "files = cioc[['Department', 'Images', 'Files']]"
   ]
  },
  {
   "cell_type": "code",
   "execution_count": null,
   "metadata": {
    "collapsed": false
   },
   "outputs": [],
   "source": [
    "content.head()"
   ]
  },
  {
   "cell_type": "code",
   "execution_count": null,
   "metadata": {
    "collapsed": false
   },
   "outputs": [],
   "source": [
    "# Export to CSV\n",
    "\n",
    "df.to_csv(os.path.join(output_path, 'dept_stats_{}.csv'.format(\n",
    "            dt.date.today())))"
   ]
  },
  {
   "cell_type": "markdown",
   "metadata": {
    "collapsed": false
   },
   "source": [
    "## Graphing the data"
   ]
  },
  {
   "cell_type": "code",
   "execution_count": null,
   "metadata": {
    "collapsed": true
   },
   "outputs": [],
   "source": [
    "import matplotlib.pyplot as plt\n",
    "import seaborn as sns\n",
    "sns.set_style('whitegrid')\n",
    "\n",
    "\n",
    "import matplotlib\n",
    "matplotlib.style.use('ggplot')\n",
    "\n",
    "%matplotlib inline"
   ]
  },
  {
   "cell_type": "code",
   "execution_count": null,
   "metadata": {
    "collapsed": false
   },
   "outputs": [],
   "source": [
    "# Basic Seaborn Chart Test\n",
    "\n",
    "sns.set_context('poster')\n",
    "\n",
    "sns_plot = sns.barplot(palette='muted', units=\"Content\",\n",
    "    data=content.loc[df.Department == 'CANADA'])\n"
   ]
  },
  {
   "cell_type": "code",
   "execution_count": null,
   "metadata": {
    "collapsed": false
   },
   "outputs": [],
   "source": [
    "sns_plot.set_title('CANADA')\n",
    "\n",
    "fig = sns_plot.get_figure()\n",
    "\n",
    "fig.savefig(os.path.join(output_path, 'Canada2.png'))"
   ]
  },
  {
   "cell_type": "code",
   "execution_count": null,
   "metadata": {
    "collapsed": false
   },
   "outputs": [],
   "source": [
    "content.sort_values(by='Blogs', ascending=False).head()"
   ]
  },
  {
   "cell_type": "code",
   "execution_count": null,
   "metadata": {
    "collapsed": false
   },
   "outputs": [],
   "source": [
    "# Print all departmental graphs for content\n",
    "\n",
    "sns.set_context('poster')\n",
    "\n",
    "dept_list = [dept for dept in content.Department]\n",
    "\n",
    "for dept in content.Department:\n",
    "    \n",
    "    sns_plot = sns.barplot(palette='muted',\n",
    "    data=content.loc[content.Department == dept])\n",
    "    \n",
    "    sns_plot.set_title(dept)\n",
    "\n",
    "    fig = sns_plot.get_figure()\n",
    "    \n",
    "    dept_title = dept.split('/')[0]\n",
    "\n",
    "    fig.savefig(os.path.join(output_path, 'department_graphs',\n",
    "                             '{}_content_2016.png'.format(dept_title)))\n",
    "    \n",
    "    plt.close()"
   ]
  },
  {
   "cell_type": "code",
   "execution_count": null,
   "metadata": {
    "collapsed": false
   },
   "outputs": [],
   "source": [
    "# Print all departmental graphs for files\n",
    "\n",
    "sns.set_context('poster')\n",
    "\n",
    "dept_list = [dept for dept in files.Department]\n",
    "\n",
    "for dept in files.Department:\n",
    "    \n",
    "    sns_plot = sns.barplot(palette='muted',\n",
    "    data=files.loc[files.Department == dept])\n",
    "    \n",
    "    sns_plot.set_title(dept)\n",
    "\n",
    "    fig = sns_plot.get_figure()\n",
    "    \n",
    "    dept_title = dept.split('/')[0]\n",
    "\n",
    "    fig.savefig(os.path.join(output_path, 'department_graphs',\n",
    "                             '{}_files_2016.png'.format(dept_title)))\n",
    "    \n",
    "    plt.close()"
   ]
  },
  {
   "cell_type": "code",
   "execution_count": null,
   "metadata": {
    "collapsed": true
   },
   "outputs": [],
   "source": [
    "content.to_csv(os.path.join(output_path, 'gcconnex_fte_stats-{}.csv'.format(\n",
    "        dt.date.today())))\n",
    "\n",
    "files.to_csv(os.path.join(output_path, 'gcconnex_user_stats-{}.csv'.format(\n",
    "        dt.date.today())))"
   ]
  },
  {
   "cell_type": "markdown",
   "metadata": {},
   "source": [
    "## Pull and synthesize user stats"
   ]
  },
  {
   "cell_type": "code",
   "execution_count": null,
   "metadata": {
    "collapsed": false
   },
   "outputs": [],
   "source": [
    "# Select Users with Avatar & About Me completed\n",
    "# name_id: 55 = About_me.description, name_id: 73 = Icontime Avatar\n",
    "\n",
    "user_profile = []\n",
    "\n",
    "for md, e in session.query(MetaData, Entities).filter(\n",
    "    (Entities.guid == MetaData.entity_guid) &\n",
    "    ((MetaData.name_id == 55) | (MetaData.name_id == 73))):\n",
    "    user_profile.append((e.guid, md.name_id))"
   ]
  },
  {
   "cell_type": "code",
   "execution_count": null,
   "metadata": {
    "collapsed": false
   },
   "outputs": [],
   "source": [
    "user_profile[:5]"
   ]
  },
  {
   "cell_type": "code",
   "execution_count": null,
   "metadata": {
    "collapsed": true
   },
   "outputs": [],
   "source": [
    "    "
   ]
  },
  {
   "cell_type": "code",
   "execution_count": null,
   "metadata": {
    "collapsed": true
   },
   "outputs": [],
   "source": [
    "user_profile_df = pd.DataFrame(user_profile, columns='User md_name'.split())"
   ]
  },
  {
   "cell_type": "code",
   "execution_count": null,
   "metadata": {
    "collapsed": false
   },
   "outputs": [],
   "source": []
  },
  {
   "cell_type": "code",
   "execution_count": null,
   "metadata": {
    "collapsed": false
   },
   "outputs": [],
   "source": [
    "def return_avatar(row):\n",
    "    if row['md_name'] == 73:\n",
    "        return 1\n",
    "    else:\n",
    "        return 0\n",
    "\n",
    "def return_aboutme(row):\n",
    "    if row['md_name'] == 55:\n",
    "        return 1\n",
    "    else:\n",
    "        return 0"
   ]
  },
  {
   "cell_type": "code",
   "execution_count": null,
   "metadata": {
    "collapsed": false
   },
   "outputs": [],
   "source": [
    "user_profile_df['Avatar'] = user_profile_df.apply(\n",
    "    lambda row: return_avatar (row), axis=1)\n",
    "\n",
    "user_profile_df['Profile'] = user_profile_df.apply(\n",
    "    lambda row: return_aboutme (row), axis=1)"
   ]
  },
  {
   "cell_type": "code",
   "execution_count": null,
   "metadata": {
    "collapsed": false
   },
   "outputs": [],
   "source": [
    "user_profile_df = user_profile_df.drop('md_name', axis=1)"
   ]
  },
  {
   "cell_type": "code",
   "execution_count": null,
   "metadata": {
    "collapsed": false
   },
   "outputs": [],
   "source": []
  },
  {
   "cell_type": "code",
   "execution_count": null,
   "metadata": {
    "collapsed": false
   },
   "outputs": [],
   "source": [
    "grouped_up = user_profile_df.groupby(['User'], sort=False).sum()\n"
   ]
  },
  {
   "cell_type": "code",
   "execution_count": null,
   "metadata": {
    "collapsed": false
   },
   "outputs": [],
   "source": [
    "grouped_up.reset_index(drop=False, inplace=True)"
   ]
  },
  {
   "cell_type": "code",
   "execution_count": null,
   "metadata": {
    "collapsed": false
   },
   "outputs": [],
   "source": [
    "grouped_up.head()"
   ]
  },
  {
   "cell_type": "code",
   "execution_count": null,
   "metadata": {
    "collapsed": true
   },
   "outputs": [],
   "source": []
  },
  {
   "cell_type": "code",
   "execution_count": null,
   "metadata": {
    "collapsed": false
   },
   "outputs": [],
   "source": [
    "grouped_up.describe()"
   ]
  },
  {
   "cell_type": "code",
   "execution_count": null,
   "metadata": {
    "collapsed": true
   },
   "outputs": [],
   "source": []
  },
  {
   "cell_type": "code",
   "execution_count": null,
   "metadata": {
    "collapsed": true
   },
   "outputs": [],
   "source": []
  },
  {
   "cell_type": "markdown",
   "metadata": {},
   "source": [
    "## Pull User Profile Information"
   ]
  },
  {
   "cell_type": "code",
   "execution_count": null,
   "metadata": {
    "collapsed": false
   },
   "outputs": [],
   "source": [
    "users = []\n",
    "\n",
    "for e, u in session.query(Entities, Users).filter(\n",
    "    Entities.guid == Users.guid):\n",
    "    users.append((e.guid, anonymize(bytes(u.name, 'utf-8')),\n",
    "                 find_dept(u.email), \n",
    "                 convert_unixtime(e.time_created),\n",
    "                  convert_unixtime(u.last_login),\n",
    "                ))"
   ]
  },
  {
   "cell_type": "code",
   "execution_count": null,
   "metadata": {
    "collapsed": false
   },
   "outputs": [],
   "source": [
    "users[:10]"
   ]
  },
  {
   "cell_type": "code",
   "execution_count": null,
   "metadata": {
    "collapsed": false
   },
   "outputs": [],
   "source": [
    "user_df = pd.DataFrame(\n",
    "    users, columns='User Name Department Created Last_login'.split())"
   ]
  },
  {
   "cell_type": "code",
   "execution_count": null,
   "metadata": {
    "collapsed": false
   },
   "outputs": [],
   "source": [
    "user_df.head()"
   ]
  },
  {
   "cell_type": "code",
   "execution_count": null,
   "metadata": {
    "collapsed": false
   },
   "outputs": [],
   "source": []
  },
  {
   "cell_type": "code",
   "execution_count": null,
   "metadata": {
    "collapsed": false
   },
   "outputs": [],
   "source": []
  },
  {
   "cell_type": "code",
   "execution_count": null,
   "metadata": {
    "collapsed": false
   },
   "outputs": [],
   "source": [
    "# Combine user_profiles and users into single dataframe\n",
    "\n",
    "combined_user_df = pd.merge(grouped_up, user_df, how='right', on='User')"
   ]
  },
  {
   "cell_type": "code",
   "execution_count": null,
   "metadata": {
    "collapsed": false
   },
   "outputs": [],
   "source": [
    "combined_user_df.describe()"
   ]
  },
  {
   "cell_type": "code",
   "execution_count": null,
   "metadata": {
    "collapsed": false
   },
   "outputs": [],
   "source": [
    "combined_user_df.head()"
   ]
  },
  {
   "cell_type": "code",
   "execution_count": null,
   "metadata": {
    "collapsed": false
   },
   "outputs": [],
   "source": [
    "# Add zero values for users without avatars and profiles\n",
    "\n",
    "combined_user_df['Avatar'].fillna(value=0, inplace=True)\n",
    "combined_user_df['Profile'].fillna(value=0, inplace=True)"
   ]
  },
  {
   "cell_type": "code",
   "execution_count": null,
   "metadata": {
    "collapsed": false
   },
   "outputs": [],
   "source": [
    "combined_user_df.describe()"
   ]
  },
  {
   "cell_type": "code",
   "execution_count": null,
   "metadata": {
    "collapsed": false
   },
   "outputs": [],
   "source": [
    "# Generate values for users active in last 4 months\n",
    "\n",
    "combined_user_df['Active'] = np.where(combined_user_df.Last_login > '2015-12-01', 1, 0)"
   ]
  },
  {
   "cell_type": "code",
   "execution_count": null,
   "metadata": {
    "collapsed": false
   },
   "outputs": [],
   "source": [
    "combined_user_df.head()"
   ]
  },
  {
   "cell_type": "code",
   "execution_count": null,
   "metadata": {
    "collapsed": true
   },
   "outputs": [],
   "source": [
    "mainframe = combined_user_df"
   ]
  },
  {
   "cell_type": "code",
   "execution_count": null,
   "metadata": {
    "collapsed": false
   },
   "outputs": [],
   "source": []
  },
  {
   "cell_type": "code",
   "execution_count": null,
   "metadata": {
    "collapsed": false
   },
   "outputs": [],
   "source": [
    "# Pull User Colleague Information\n",
    "\n",
    "colleagues = []\n",
    "\n",
    "for r in session.query(Relationships).filter(\n",
    "    Relationships.relationship == 'friend'):\n",
    "        colleagues.append((\n",
    "            r.guid_one, r.guid_two, convert_unixtime(r.time_created)))"
   ]
  },
  {
   "cell_type": "code",
   "execution_count": null,
   "metadata": {
    "collapsed": true
   },
   "outputs": [],
   "source": []
  },
  {
   "cell_type": "code",
   "execution_count": null,
   "metadata": {
    "collapsed": false
   },
   "outputs": [],
   "source": [
    "colleagues[:10]"
   ]
  },
  {
   "cell_type": "code",
   "execution_count": null,
   "metadata": {
    "collapsed": true
   },
   "outputs": [],
   "source": [
    "# Create DataFrame of Colleagues\n",
    "\n",
    "colleagues_df = pd.DataFrame(\n",
    "    colleagues, columns='User friend_guid time_created'.split())"
   ]
  },
  {
   "cell_type": "code",
   "execution_count": null,
   "metadata": {
    "collapsed": false
   },
   "outputs": [],
   "source": [
    "# Count colleagues for each GUID\n",
    "\n",
    "colleague_count = colleagues_df.groupby('User').count()"
   ]
  },
  {
   "cell_type": "code",
   "execution_count": null,
   "metadata": {
    "collapsed": false
   },
   "outputs": [],
   "source": [
    "colleague_count.reset_index(drop=False, inplace=True)"
   ]
  },
  {
   "cell_type": "code",
   "execution_count": null,
   "metadata": {
    "collapsed": false
   },
   "outputs": [],
   "source": [
    "colleague_count.drop('time_created', axis=1, inplace=True)\n",
    "colleague_count.head()"
   ]
  },
  {
   "cell_type": "code",
   "execution_count": null,
   "metadata": {
    "collapsed": false
   },
   "outputs": [],
   "source": [
    "# Rename columns\n",
    "\n",
    "colleague_count.columns = ['User', 'Colleagues']"
   ]
  },
  {
   "cell_type": "code",
   "execution_count": null,
   "metadata": {
    "collapsed": false
   },
   "outputs": [],
   "source": [
    "colleague_count.head()"
   ]
  },
  {
   "cell_type": "code",
   "execution_count": null,
   "metadata": {
    "collapsed": false
   },
   "outputs": [],
   "source": [
    "mainframe = pd.merge(mainframe, colleague_count, how='outer', on='User')"
   ]
  },
  {
   "cell_type": "code",
   "execution_count": null,
   "metadata": {
    "collapsed": false
   },
   "outputs": [],
   "source": [
    "# Clean Data\n",
    "\n",
    "mainframe.fillna(value=0, inplace=True)\n",
    "mainframe.drop_duplicates(inplace=True)\n",
    "mainframe.describe()"
   ]
  },
  {
   "cell_type": "code",
   "execution_count": null,
   "metadata": {
    "collapsed": false
   },
   "outputs": [],
   "source": [
    "mainframe.tail()"
   ]
  },
  {
   "cell_type": "code",
   "execution_count": null,
   "metadata": {
    "collapsed": false
   },
   "outputs": [],
   "source": [
    "skills = []\n",
    "\n",
    "for o, e in session.query(Objects, Entities).filter(\n",
    "    Objects.guid == Entities.guid,\n",
    "    Entities.subtype == 60):\n",
    "        skills.append((\n",
    "            e.owner_guid, o.title))"
   ]
  },
  {
   "cell_type": "code",
   "execution_count": null,
   "metadata": {
    "collapsed": false
   },
   "outputs": [],
   "source": []
  },
  {
   "cell_type": "code",
   "execution_count": null,
   "metadata": {
    "collapsed": true
   },
   "outputs": [],
   "source": [
    "skills_df = pd.DataFrame(skills, columns=['User', 'Skills'])"
   ]
  },
  {
   "cell_type": "code",
   "execution_count": null,
   "metadata": {
    "collapsed": false
   },
   "outputs": [],
   "source": [
    "skills_df.head()"
   ]
  },
  {
   "cell_type": "code",
   "execution_count": null,
   "metadata": {
    "collapsed": true
   },
   "outputs": [],
   "source": [
    "skills_count = skills_df.groupby('User').count()"
   ]
  },
  {
   "cell_type": "code",
   "execution_count": null,
   "metadata": {
    "collapsed": false
   },
   "outputs": [],
   "source": [
    "skills_count.reset_index(drop=False, inplace=True)"
   ]
  },
  {
   "cell_type": "code",
   "execution_count": null,
   "metadata": {
    "collapsed": false
   },
   "outputs": [],
   "source": [
    "skills_count.head()"
   ]
  },
  {
   "cell_type": "code",
   "execution_count": null,
   "metadata": {
    "collapsed": true
   },
   "outputs": [],
   "source": [
    "mainframe = pd.merge(mainframe, skills_count, how='outer', on='User')"
   ]
  },
  {
   "cell_type": "code",
   "execution_count": null,
   "metadata": {
    "collapsed": false
   },
   "outputs": [],
   "source": [
    "mainframe.head()"
   ]
  },
  {
   "cell_type": "code",
   "execution_count": null,
   "metadata": {
    "collapsed": false
   },
   "outputs": [],
   "source": [
    "# Pull groups by GUID\n",
    "\n",
    "groups = []\n",
    "\n",
    "for r in session.query(Relationships).filter(\n",
    "    Relationships.relationship == 'member'):\n",
    "        groups.append((\n",
    "            r.guid_one, r.guid_two))"
   ]
  },
  {
   "cell_type": "code",
   "execution_count": null,
   "metadata": {
    "collapsed": false
   },
   "outputs": [],
   "source": [
    "groups[:5]"
   ]
  },
  {
   "cell_type": "code",
   "execution_count": null,
   "metadata": {
    "collapsed": false
   },
   "outputs": [],
   "source": [
    "groups_df = pd.DataFrame(groups, columns=['guid', 'group_id'])"
   ]
  },
  {
   "cell_type": "code",
   "execution_count": null,
   "metadata": {
    "collapsed": false
   },
   "outputs": [],
   "source": [
    "groups_count = groups_df.groupby('guid').count()"
   ]
  },
  {
   "cell_type": "code",
   "execution_count": null,
   "metadata": {
    "collapsed": true
   },
   "outputs": [],
   "source": [
    "groups_count.reset_index(drop=False, inplace=True)"
   ]
  },
  {
   "cell_type": "code",
   "execution_count": null,
   "metadata": {
    "collapsed": false
   },
   "outputs": [],
   "source": [
    "groups_count.columns = ['User', 'Groups']"
   ]
  },
  {
   "cell_type": "code",
   "execution_count": null,
   "metadata": {
    "collapsed": true
   },
   "outputs": [],
   "source": [
    "mainframe = pd.merge(mainframe, groups_count, how='outer', on='User')"
   ]
  },
  {
   "cell_type": "code",
   "execution_count": null,
   "metadata": {
    "collapsed": true
   },
   "outputs": [],
   "source": []
  },
  {
   "cell_type": "code",
   "execution_count": null,
   "metadata": {
    "collapsed": false,
    "scrolled": true
   },
   "outputs": [],
   "source": [
    "# Pull User comments\n",
    "# Could also pull comments for analysis with MetaStrings as ms and ms.text\n",
    "\n",
    "comments = []\n",
    "\n",
    "for a, e, u in session.query(Annotations, Entities, Users).filter(\n",
    "    Entities.guid == Annotations.entity_guid,\n",
    "    Entities.owner_guid == Users.guid):\n",
    "        comments.append((u.guid, e.guid))"
   ]
  },
  {
   "cell_type": "code",
   "execution_count": null,
   "metadata": {
    "collapsed": false
   },
   "outputs": [],
   "source": [
    "comments_df = pd.DataFrame(comments, columns=['User', 'entity_guid'])"
   ]
  },
  {
   "cell_type": "code",
   "execution_count": null,
   "metadata": {
    "collapsed": true
   },
   "outputs": [],
   "source": [
    "comment_group = comments_df.groupby('User').count()"
   ]
  },
  {
   "cell_type": "code",
   "execution_count": null,
   "metadata": {
    "collapsed": false
   },
   "outputs": [],
   "source": [
    "comment_group.reset_index(drop=False, inplace=True)"
   ]
  },
  {
   "cell_type": "code",
   "execution_count": null,
   "metadata": {
    "collapsed": false
   },
   "outputs": [],
   "source": [
    "comment_group.head()"
   ]
  },
  {
   "cell_type": "code",
   "execution_count": null,
   "metadata": {
    "collapsed": true
   },
   "outputs": [],
   "source": [
    "comment_group.columns = ['User', 'Comments']"
   ]
  },
  {
   "cell_type": "code",
   "execution_count": null,
   "metadata": {
    "collapsed": true
   },
   "outputs": [],
   "source": [
    "mainframe = pd.merge(mainframe, comment_group, how='outer', on='User')"
   ]
  },
  {
   "cell_type": "code",
   "execution_count": null,
   "metadata": {
    "collapsed": false
   },
   "outputs": [],
   "source": [
    "# Get rid of NaN values\n",
    "\n",
    "mainframe.fillna(value=0, inplace=True)"
   ]
  },
  {
   "cell_type": "code",
   "execution_count": null,
   "metadata": {
    "collapsed": true
   },
   "outputs": [],
   "source": [
    "def threshold_check(number, threshold_value=5):\n",
    "    \n",
    "    if number >= threshold_value:\n",
    "        return 1\n",
    "    else:\n",
    "        return 0"
   ]
  },
  {
   "cell_type": "code",
   "execution_count": null,
   "metadata": {
    "collapsed": false
   },
   "outputs": [],
   "source": [
    "mainframe['5+ Colleagues'] = mainframe['Colleagues'].apply(threshold_check)\n",
    "mainframe['5+ Groups'] = mainframe['Groups'].apply(threshold_check)\n",
    "mainframe['5+ Comments'] = mainframe['Comments'].apply(threshold_check)"
   ]
  },
  {
   "cell_type": "code",
   "execution_count": null,
   "metadata": {
    "collapsed": false
   },
   "outputs": [],
   "source": [
    "mainframe['+Skills'] = mainframe.apply(lambda x: threshold_check(x['Skills'], threshold_value=1), axis=1)"
   ]
  },
  {
   "cell_type": "code",
   "execution_count": null,
   "metadata": {
    "collapsed": false
   },
   "outputs": [],
   "source": [
    "mainframe.query('+Skills > 0').head()"
   ]
  },
  {
   "cell_type": "code",
   "execution_count": null,
   "metadata": {
    "collapsed": false
   },
   "outputs": [],
   "source": [
    "mainframe = mainframe[['User', 'Name', 'Department', 'Created', 'Last_login', \n",
    "                       'Avatar', 'Profile',\n",
    "                       'Colleagues', 'Skills', 'Groups', 'Comments', \n",
    "                       'Active', '5+ Colleagues',\n",
    "                       '5+ Groups', '5+ Comments', '+Skills']]"
   ]
  },
  {
   "cell_type": "code",
   "execution_count": null,
   "metadata": {
    "collapsed": false
   },
   "outputs": [],
   "source": []
  },
  {
   "cell_type": "code",
   "execution_count": null,
   "metadata": {
    "collapsed": true
   },
   "outputs": [],
   "source": []
  },
  {
   "cell_type": "code",
   "execution_count": null,
   "metadata": {
    "collapsed": false
   },
   "outputs": [],
   "source": [
    "mainframe.head()"
   ]
  },
  {
   "cell_type": "code",
   "execution_count": null,
   "metadata": {
    "collapsed": false
   },
   "outputs": [],
   "source": [
    "department_stats = mainframe[['Department', 'Active', 'Avatar', 'Profile',\n",
    "                              '5+ Colleagues','5+ Groups', '5+ Comments', \n",
    "                              '+Skills']]"
   ]
  },
  {
   "cell_type": "code",
   "execution_count": null,
   "metadata": {
    "collapsed": true
   },
   "outputs": [],
   "source": [
    "department_stats = department_stats.groupby('Department').sum()"
   ]
  },
  {
   "cell_type": "code",
   "execution_count": null,
   "metadata": {
    "collapsed": false
   },
   "outputs": [],
   "source": [
    "department_stats.head()"
   ]
  },
  {
   "cell_type": "code",
   "execution_count": null,
   "metadata": {
    "collapsed": false
   },
   "outputs": [],
   "source": [
    "dept_members = user_df.groupby('Department').count()"
   ]
  },
  {
   "cell_type": "code",
   "execution_count": null,
   "metadata": {
    "collapsed": false
   },
   "outputs": [],
   "source": [
    "department_stats['Users'] = dept_members['User']"
   ]
  },
  {
   "cell_type": "code",
   "execution_count": null,
   "metadata": {
    "collapsed": false
   },
   "outputs": [],
   "source": [
    "department_stats = department_stats[['Users', 'Active', 'Avatar', 'Profile',\n",
    "                              '5+ Colleagues','5+ Groups', '5+ Comments', \n",
    "                              '+Skills']]"
   ]
  },
  {
   "cell_type": "code",
   "execution_count": null,
   "metadata": {
    "collapsed": false
   },
   "outputs": [],
   "source": [
    "# Remove null values from df and remove departments with under 25 members\n",
    "\n",
    "department_stats = department_stats.loc[department_stats.Users > 25]"
   ]
  },
  {
   "cell_type": "code",
   "execution_count": null,
   "metadata": {
    "collapsed": true
   },
   "outputs": [],
   "source": [
    "# Reset Index for DF\n",
    "\n",
    "department_stats.reset_index(drop=False, inplace=True)"
   ]
  },
  {
   "cell_type": "code",
   "execution_count": null,
   "metadata": {
    "collapsed": false
   },
   "outputs": [],
   "source": [
    "department_stats.head()"
   ]
  },
  {
   "cell_type": "code",
   "execution_count": null,
   "metadata": {
    "collapsed": false
   },
   "outputs": [],
   "source": [
    "department_stats.query('Department == \"RCMP/GRC\"').head()"
   ]
  },
  {
   "cell_type": "code",
   "execution_count": null,
   "metadata": {
    "collapsed": true
   },
   "outputs": [],
   "source": []
  },
  {
   "cell_type": "code",
   "execution_count": null,
   "metadata": {
    "collapsed": true
   },
   "outputs": [],
   "source": [
    "cioc_depts.columns = ['Department', 'FTEs']"
   ]
  },
  {
   "cell_type": "code",
   "execution_count": null,
   "metadata": {
    "collapsed": false
   },
   "outputs": [],
   "source": [
    "cioc_stats = pd.merge(department_stats, cioc_depts, how='right')"
   ]
  },
  {
   "cell_type": "code",
   "execution_count": null,
   "metadata": {
    "collapsed": false
   },
   "outputs": [],
   "source": [
    "cioc_stats.head()"
   ]
  },
  {
   "cell_type": "code",
   "execution_count": null,
   "metadata": {
    "collapsed": false
   },
   "outputs": [],
   "source": [
    "ftes = cioc_stats[['Department', 'FTEs', 'Users']]\n",
    "users = cioc_stats[['Department', 'Users', 'Active', 'Avatar', 'Profile', \n",
    "                    '5+ Colleagues',\n",
    "                   '5+ Groups', '5+ Comments', '+Skills']]"
   ]
  },
  {
   "cell_type": "code",
   "execution_count": null,
   "metadata": {
    "collapsed": false
   },
   "outputs": [],
   "source": [
    "%matplotlib inline\n",
    "ftes.plot()"
   ]
  },
  {
   "cell_type": "code",
   "execution_count": null,
   "metadata": {
    "collapsed": false
   },
   "outputs": [],
   "source": [
    "users.plot()"
   ]
  },
  {
   "cell_type": "code",
   "execution_count": null,
   "metadata": {
    "collapsed": true
   },
   "outputs": [],
   "source": []
  },
  {
   "cell_type": "code",
   "execution_count": null,
   "metadata": {
    "collapsed": false
   },
   "outputs": [],
   "source": [
    "# Save files for analysis and graphing\n",
    "\n",
    "mainframe.to_csv(os.path.join(output_path, 'gcconnex_individual_stats-{}.csv'.format(\n",
    "        dt.date.today())))\n",
    "\n",
    "department_stats.to_csv(os.path.join(output_path, 'gcconnex_department_stats-{}.csv'.format(\n",
    "        dt.date.today())))\n",
    "\n",
    "cioc_stats.to_csv(os.path.join(output_path, 'gcconnex_cioc_stats-{}.csv'.format(\n",
    "        dt.date.today())))\n",
    "\n",
    "ftes.to_csv(os.path.join(output_path, 'gcconnex_fte_stats-{}.csv'.format(\n",
    "        dt.date.today())))\n",
    "\n",
    "users.to_csv(os.path.join(output_path, 'gcconnex_user_stats-{}.csv'.format(\n",
    "        dt.date.today())))\n"
   ]
  },
  {
   "cell_type": "markdown",
   "metadata": {
    "collapsed": true
   },
   "source": [
    "## Graphing the data"
   ]
  },
  {
   "cell_type": "code",
   "execution_count": null,
   "metadata": {
    "collapsed": false
   },
   "outputs": [],
   "source": []
  },
  {
   "cell_type": "code",
   "execution_count": null,
   "metadata": {
    "collapsed": false
   },
   "outputs": [],
   "source": [
    "# Basic Seaborn Chart\n",
    "\n",
    "sns_plot = sns.barplot(palette='muted', units=\"Users\",\n",
    "    data=department_stats.loc[department_stats.Department == 'CANADA'])\n",
    "\n",
    "sns_plot.set_title('CANADA')\n",
    "\n",
    "fig = sns_plot.get_figure()\n",
    "\n",
    "fig.savefig('Canada.png')"
   ]
  },
  {
   "cell_type": "code",
   "execution_count": null,
   "metadata": {
    "collapsed": false
   },
   "outputs": [],
   "source": []
  },
  {
   "cell_type": "code",
   "execution_count": null,
   "metadata": {
    "collapsed": false
   },
   "outputs": [],
   "source": [
    "# Print all departmental graphs for User Info\n",
    "\n",
    "sns.set_context('poster')\n",
    "\n",
    "for dept in users.Department:\n",
    "    \n",
    "    sns_plot = sns.barplot(palette='muted',\n",
    "        data=users.loc[users.Department == dept])\n",
    "    \n",
    "    sns_plot.set_title(dept)\n",
    "\n",
    "    fig = sns_plot.get_figure()\n",
    "    \n",
    "    dept_title = dept.split('/')[0]\n",
    "\n",
    "    fig.savefig(os.path.join(output_path, 'department_graphs',\n",
    "                             '{}_users_2016.png'.format(dept_title)))\n",
    "    \n",
    "    plt.close()"
   ]
  },
  {
   "cell_type": "code",
   "execution_count": null,
   "metadata": {
    "collapsed": false
   },
   "outputs": [],
   "source": [
    "# Print all departmental graphs for FTE Info\n",
    "\n",
    "sns.set_context('poster')\n",
    "\n",
    "for dept in ftes.Department:\n",
    "    \n",
    "    sns_plot = sns.barplot(palette='muted',\n",
    "        data=ftes.loc[ftes.Department == dept])\n",
    "    \n",
    "    sns_plot.set_title(dept)\n",
    "\n",
    "    fig = sns_plot.get_figure()\n",
    "    \n",
    "    dept_title = dept.split('/')[0]\n",
    "\n",
    "    fig.savefig(os.path.join(output_path, 'department_graphs',\n",
    "                             '{}_ftes_2016.png'.format(dept_title)))\n",
    "    \n",
    "    plt.close()"
   ]
  },
  {
   "cell_type": "code",
   "execution_count": null,
   "metadata": {
    "collapsed": true
   },
   "outputs": [],
   "source": []
  },
  {
   "cell_type": "code",
   "execution_count": null,
   "metadata": {
    "collapsed": false
   },
   "outputs": [],
   "source": []
  },
  {
   "cell_type": "code",
   "execution_count": null,
   "metadata": {
    "collapsed": false
   },
   "outputs": [],
   "source": []
  },
  {
   "cell_type": "code",
   "execution_count": null,
   "metadata": {
    "collapsed": true
   },
   "outputs": [],
   "source": []
  },
  {
   "cell_type": "code",
   "execution_count": null,
   "metadata": {
    "collapsed": true
   },
   "outputs": [],
   "source": []
  },
  {
   "cell_type": "markdown",
   "metadata": {},
   "source": [
    "## Network Graphing"
   ]
  },
  {
   "cell_type": "code",
   "execution_count": null,
   "metadata": {
    "collapsed": false
   },
   "outputs": [],
   "source": [
    "n_users = user_df.transpose()"
   ]
  },
  {
   "cell_type": "code",
   "execution_count": null,
   "metadata": {
    "collapsed": false
   },
   "outputs": [],
   "source": [
    "nu = n_users.to_dict()"
   ]
  },
  {
   "cell_type": "code",
   "execution_count": null,
   "metadata": {
    "collapsed": false
   },
   "outputs": [],
   "source": [
    "nu[0]"
   ]
  },
  {
   "cell_type": "code",
   "execution_count": null,
   "metadata": {
    "collapsed": false
   },
   "outputs": [],
   "source": [
    "colleagues[0]"
   ]
  },
  {
   "cell_type": "code",
   "execution_count": null,
   "metadata": {
    "collapsed": false
   },
   "outputs": [],
   "source": [
    "import networkx as nx"
   ]
  },
  {
   "cell_type": "code",
   "execution_count": null,
   "metadata": {
    "collapsed": true
   },
   "outputs": [],
   "source": [
    "G = nx.DiGraph()"
   ]
  },
  {
   "cell_type": "code",
   "execution_count": null,
   "metadata": {
    "collapsed": false
   },
   "outputs": [],
   "source": [
    "for user in nu:\n",
    "    data = nu[user]\n",
    "    G.add_node(data['User'], name=data['Name'],\n",
    "               department=data['Department'], \n",
    "               created=data['Created'])"
   ]
  },
  {
   "cell_type": "code",
   "execution_count": null,
   "metadata": {
    "collapsed": false
   },
   "outputs": [],
   "source": [
    "for edge in colleagues:\n",
    "    user, friend, connected = edge\n",
    "    \n",
    "    G.add_edge(user, friend, date=connected)"
   ]
  },
  {
   "cell_type": "code",
   "execution_count": null,
   "metadata": {
    "collapsed": true
   },
   "outputs": [],
   "source": [
    "nx.write_gexf(\n",
    "    G, os.path.join(\n",
    "        data_path, \"gcconnex_users_content_{}.gexf\".format(dt.date.today())))"
   ]
  },
  {
   "cell_type": "code",
   "execution_count": null,
   "metadata": {
    "collapsed": false
   },
   "outputs": [],
   "source": []
  },
  {
   "cell_type": "code",
   "execution_count": null,
   "metadata": {
    "collapsed": true
   },
   "outputs": [],
   "source": []
  }
 ],
 "metadata": {
  "kernelspec": {
   "display_name": "Python [Root]",
   "language": "python",
   "name": "Python [Root]"
  },
  "language_info": {
   "codemirror_mode": {
    "name": "ipython",
    "version": 3
   },
   "file_extension": ".py",
   "mimetype": "text/x-python",
   "name": "python",
   "nbconvert_exporter": "python",
   "pygments_lexer": "ipython3",
   "version": "3.5.1"
  }
 },
 "nbformat": 4,
 "nbformat_minor": 0
}
